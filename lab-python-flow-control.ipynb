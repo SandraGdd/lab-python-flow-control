{
 "cells": [
  {
   "cell_type": "markdown",
   "id": "d3bfc191-8885-42ee-b0a0-bbab867c6f9f",
   "metadata": {
    "tags": []
   },
   "source": [
    "# Lab | Flow Control"
   ]
  },
  {
   "cell_type": "markdown",
   "id": "3851fcd1-cf98-4653-9c89-e003b7ec9400",
   "metadata": {},
   "source": [
    "## Exercise: Managing Customer Orders Optimized\n",
    "\n",
    "In the last lab, you were starting an online store that sells various products. To ensure smooth operations, you developed a program that manages customer orders and inventory.\n",
    "\n",
    "You did so without using flow control. Let's go a step further and improve this code.\n",
    "\n",
    "Follow the steps below to complete the exercise:\n",
    "\n",
    "1. Look at your code from the lab data structures, and improve repeated code with loops.\n",
    "\n",
    "2. Instead of asking the user to input the name of three products that a customer wants to order, do the following:\n",
    "    \n",
    "    a. Prompt the user to enter the name of a product that a customer wants to order.\n",
    "    \n",
    "    b. Add the product name to the \"customer_orders\" set.\n",
    "    \n",
    "    c. Ask the user if they want to add another product (yes/no).\n",
    "    \n",
    "    d. Continue the loop until the user does not want to add another product.\n",
    "\n",
    "3. Instead of updating the inventory by subtracting 1 from the quantity of each product, only do it for  the products that were ordered (those in \"customer_orders\")."
   ]
  },
  {
   "cell_type": "code",
   "execution_count": 9,
   "id": "9b5b8d1f-4fd7-4254-bf0d-e29e3b5ada20",
   "metadata": {},
   "outputs": [
    {
     "name": "stdin",
     "output_type": "stream",
     "text": [
      "Please enter the inventory of t-shirts in inventory:  55\n",
      "Please enter the inventory of mugs in inventory:  6\n",
      "Please enter the inventory of hats in inventory:  3\n",
      "Please enter the inventory of books in inventory:  22\n",
      "Please enter the inventory of keychains in inventory:  6\n"
     ]
    },
    {
     "name": "stdout",
     "output_type": "stream",
     "text": [
      "{'t-shirt': 55, 'mug': 6, 'hat': 3, 'book': 22, 'keychain': 6}\n"
     ]
    }
   ],
   "source": [
    "products  = [\"t-shirt\", \"mug\", \"hat\", \"book\", \"keychain\"]\n",
    "inventory = {}\n",
    "\"\"\"quantity_ts = int(input(\"Please enter the quantity of t-shirts in inventory: \"))\n",
    "quantity_m = int(input(\"Please enter the quantity of mugs in inventory: \"))\n",
    "quantity_h = int(input(\"Please enter the quantity of hats in inventory: \"))\n",
    "quantity_b = int(input(\"Please enter the quantity of books in inventory: \"))\n",
    "quantity_k = int(input(\"Please enter the quantity of keychains in inventory: \"))\n",
    "inventory[\"t-shirt\"] = quantity_ts\n",
    "inventory[\"mug\"] = quantity_m\n",
    "inventory[\"hat\"] = quantity_h\n",
    "inventory[\"book\"] = quantity_b\n",
    "inventory[\"keychain\"] = quantity_k\n",
    "print(inventory)\"\"\"\n",
    "for product in products:\n",
    "    quantity = int(input(f\"Please enter the inventory of {product}s in inventory: \"))\n",
    "    inventory[product] = quantity\n",
    "print(inventory)"
   ]
  },
  {
   "cell_type": "code",
   "execution_count": 11,
   "id": "eee3264e-a103-4ae9-890e-dbcd75fb7e99",
   "metadata": {},
   "outputs": [
    {
     "name": "stdin",
     "output_type": "stream",
     "text": [
      "Please enter product you want to order:  book\n"
     ]
    }
   ],
   "source": [
    "# 2a & b: Prombt user to enter name of product and store in set\n",
    "customer_orders = set()\n",
    "order = input(\"Please enter product you want to order: \")\n",
    "customer_orders.add(order)"
   ]
  },
  {
   "cell_type": "code",
   "execution_count": 13,
   "id": "ae72f2f2-995f-4fe6-b705-8d1895daf88d",
   "metadata": {},
   "outputs": [
    {
     "name": "stdin",
     "output_type": "stream",
     "text": [
      "Do you want another product? Please enter 'yes' or 'no':  yes\n",
      "Which product do you want to order?  book\n",
      "Do you want another product? Please enter 'yes' or 'no':  no\n"
     ]
    },
    {
     "name": "stdout",
     "output_type": "stream",
     "text": [
      "Okay, thank you!\n"
     ]
    }
   ],
   "source": [
    "#2c & d: question \n",
    "choice = input(\"Do you want another product? Please enter 'yes' or 'no': \")\n",
    "while choice == 'yes':\n",
    "    second_product = input(\"Which product do you want to order? \")\n",
    "    customer_orders.add(second_product)\n",
    "    choice = input(\"Do you want another product? Please enter 'yes' or 'no': \")\n",
    "print(\"Okay, thank you!\")\n",
    "        "
   ]
  },
  {
   "cell_type": "code",
   "execution_count": 15,
   "id": "f1fb5b25-b4cc-4778-a137-c677dbc74f66",
   "metadata": {},
   "outputs": [
    {
     "name": "stdout",
     "output_type": "stream",
     "text": [
      "{'t-shirt': 55, 'mug': 6, 'hat': 3, 'book': 21, 'keychain': 6}\n"
     ]
    }
   ],
   "source": [
    "#3 updated inventory\n",
    "\"\"\"for value in customer_orders:\n",
    "    inventory[value] = inventory[value] -1\n",
    "print(inventory)\"\"\"\n",
    "for p in customer_orders:\n",
    "    if p in inventory:\n",
    "        inventory[p] = inventory[p] -1\n",
    "print(inventory)"
   ]
  },
  {
   "cell_type": "code",
   "execution_count": null,
   "id": "4f62d919-53a6-41d1-8b39-9a06f4260598",
   "metadata": {},
   "outputs": [],
   "source": []
  }
 ],
 "metadata": {
  "kernelspec": {
   "display_name": "Python 3 (ipykernel)",
   "language": "python",
   "name": "python3"
  },
  "language_info": {
   "codemirror_mode": {
    "name": "ipython",
    "version": 3
   },
   "file_extension": ".py",
   "mimetype": "text/x-python",
   "name": "python",
   "nbconvert_exporter": "python",
   "pygments_lexer": "ipython3",
   "version": "3.12.4"
  }
 },
 "nbformat": 4,
 "nbformat_minor": 5
}
